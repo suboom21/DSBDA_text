{
 "cells": [
  {
   "cell_type": "code",
   "execution_count": 35,
   "id": "568945ae-026d-4f27-899c-31ffab0bdd15",
   "metadata": {},
   "outputs": [],
   "source": [
    "from nltk import word_tokenize,sent_tokenize"
   ]
  },
  {
   "cell_type": "code",
   "execution_count": 36,
   "id": "3997ba5e-cc06-44ad-9713-9e4272f451a5",
   "metadata": {},
   "outputs": [],
   "source": [
    "s1=\"Shubham is Stupid. He wont last long nor do Any sheet\"\n",
    "s2=\"who cares whatever its just pointless running around\"\n"
   ]
  },
  {
   "cell_type": "code",
   "execution_count": 37,
   "id": "c0c94880-2797-46d7-a392-cb44a62b457a",
   "metadata": {},
   "outputs": [
    {
     "name": "stdout",
     "output_type": "stream",
     "text": [
      "['Shubham', 'is', 'Stupid', '.', 'He', 'wont', 'last', 'long', 'nor', 'do', 'Any', 'sheet'] ['who cares whatever its just pointless running around']\n"
     ]
    }
   ],
   "source": [
    "token=word_tokenize(s1)\n",
    "stoken=sent_tokenize(s2)\n",
    "print(token,stoken)"
   ]
  },
  {
   "cell_type": "code",
   "execution_count": 38,
   "id": "5e1a0dd6-cc4b-4732-b771-44910ca4ea46",
   "metadata": {},
   "outputs": [],
   "source": [
    "from nltk import pos_tag"
   ]
  },
  {
   "cell_type": "code",
   "execution_count": 39,
   "id": "251c4c99-f7c8-4e86-b440-466138894055",
   "metadata": {},
   "outputs": [],
   "source": [
    "tagged_token=pos_tag(token)"
   ]
  },
  {
   "cell_type": "code",
   "execution_count": 40,
   "id": "1777b1d9-dbf8-47fb-9ff0-3429d8f054bc",
   "metadata": {},
   "outputs": [
    {
     "name": "stdout",
     "output_type": "stream",
     "text": [
      "[('Shubham', 'NNP'), ('is', 'VBZ'), ('Stupid', 'NNP'), ('.', '.'), ('He', 'PRP'), ('wont', 'VBD'), ('last', 'JJ'), ('long', 'JJ'), ('nor', 'CC'), ('do', 'VBP'), ('Any', 'DT'), ('sheet', 'NN')]\n"
     ]
    }
   ],
   "source": [
    "print(tagged_token)"
   ]
  },
  {
   "cell_type": "code",
   "execution_count": 41,
   "id": "d369aed2-15fd-403e-845a-d7c7c9fb31c0",
   "metadata": {},
   "outputs": [],
   "source": [
    "from nltk.corpus import stopwords"
   ]
  },
  {
   "cell_type": "code",
   "execution_count": 58,
   "id": "e882a47f-0559-47f7-a729-f0223e79370e",
   "metadata": {},
   "outputs": [],
   "source": [
    "stop_words=stopwords.words('english')\n",
    "word=token\n",
    "c_token=[]"
   ]
  },
  {
   "cell_type": "code",
   "execution_count": 59,
   "id": "8f179f2b-1bc8-42d9-845b-e553301c5c10",
   "metadata": {},
   "outputs": [],
   "source": [
    "for i in token:\n",
    "    if word not in stop_words:\n",
    "        c_token.append(word)"
   ]
  },
  {
   "cell_type": "code",
   "execution_count": 60,
   "id": "884eb4ce-a402-4118-b55c-f03a094d9e82",
   "metadata": {},
   "outputs": [
    {
     "name": "stdout",
     "output_type": "stream",
     "text": [
      "[['Shubham', 'is', 'Stupid', '.', 'He', 'wont', 'last', 'long', 'nor', 'do', 'Any', 'sheet'], ['Shubham', 'is', 'Stupid', '.', 'He', 'wont', 'last', 'long', 'nor', 'do', 'Any', 'sheet'], ['Shubham', 'is', 'Stupid', '.', 'He', 'wont', 'last', 'long', 'nor', 'do', 'Any', 'sheet'], ['Shubham', 'is', 'Stupid', '.', 'He', 'wont', 'last', 'long', 'nor', 'do', 'Any', 'sheet'], ['Shubham', 'is', 'Stupid', '.', 'He', 'wont', 'last', 'long', 'nor', 'do', 'Any', 'sheet'], ['Shubham', 'is', 'Stupid', '.', 'He', 'wont', 'last', 'long', 'nor', 'do', 'Any', 'sheet'], ['Shubham', 'is', 'Stupid', '.', 'He', 'wont', 'last', 'long', 'nor', 'do', 'Any', 'sheet'], ['Shubham', 'is', 'Stupid', '.', 'He', 'wont', 'last', 'long', 'nor', 'do', 'Any', 'sheet'], ['Shubham', 'is', 'Stupid', '.', 'He', 'wont', 'last', 'long', 'nor', 'do', 'Any', 'sheet'], ['Shubham', 'is', 'Stupid', '.', 'He', 'wont', 'last', 'long', 'nor', 'do', 'Any', 'sheet'], ['Shubham', 'is', 'Stupid', '.', 'He', 'wont', 'last', 'long', 'nor', 'do', 'Any', 'sheet'], ['Shubham', 'is', 'Stupid', '.', 'He', 'wont', 'last', 'long', 'nor', 'do', 'Any', 'sheet']]\n"
     ]
    }
   ],
   "source": [
    "print(c_token)"
   ]
  },
  {
   "cell_type": "code",
   "execution_count": 61,
   "id": "5d2b247d-9f47-4906-8f23-06fd7c1b7333",
   "metadata": {},
   "outputs": [],
   "source": [
    "from nltk.stem import PorterStemmer"
   ]
  },
  {
   "cell_type": "code",
   "execution_count": 66,
   "id": "1da83689-cf6d-4f2a-9d5e-1a4965203586",
   "metadata": {},
   "outputs": [],
   "source": [
    "stemmer=PorterStemmer()\n",
    "word=word_tokenize(s2)"
   ]
  },
  {
   "cell_type": "code",
   "execution_count": 67,
   "id": "c3199929-ea05-4050-934a-8e027c1706fa",
   "metadata": {},
   "outputs": [],
   "source": [
    "stem_1=[stemmer.stem(word) for word in token]"
   ]
  },
  {
   "cell_type": "code",
   "execution_count": 70,
   "id": "e2376cd5-1219-4117-a010-ff078cb6a7cc",
   "metadata": {},
   "outputs": [
    {
     "name": "stdout",
     "output_type": "stream",
     "text": [
      "['shubham', 'is', 'stupid', '.', 'he', 'wont', 'last', 'long', 'nor', 'do', 'ani', 'sheet']\n"
     ]
    }
   ],
   "source": [
    "print (stem_1)"
   ]
  },
  {
   "cell_type": "code",
   "execution_count": 73,
   "id": "6641e255-1777-474f-8b11-3a21b59f829c",
   "metadata": {},
   "outputs": [],
   "source": [
    "from nltk.stem import WordNetLemmatizer"
   ]
  },
  {
   "cell_type": "code",
   "execution_count": 76,
   "id": "3f1dcb8a-d46a-4a62-af3a-4b76f09c3ce1",
   "metadata": {},
   "outputs": [],
   "source": [
    "stemmer=PorterStemmer()\n",
    "word=word_tokenize(s2)"
   ]
  },
  {
   "cell_type": "code",
   "execution_count": 78,
   "id": "e356ee0c-2e6b-4165-ad5a-b4f015c086f2",
   "metadata": {},
   "outputs": [],
   "source": [
    "stem_2=[stemmer.stem(word) for word in token]"
   ]
  },
  {
   "cell_type": "code",
   "execution_count": 79,
   "id": "1b30c813-f11c-43d4-a515-ed725d0e4bc6",
   "metadata": {},
   "outputs": [
    {
     "name": "stdout",
     "output_type": "stream",
     "text": [
      "['shubham', 'is', 'stupid', '.', 'he', 'wont', 'last', 'long', 'nor', 'do', 'ani', 'sheet']\n"
     ]
    }
   ],
   "source": [
    "print(stem_2)"
   ]
  },
  {
   "cell_type": "code",
   "execution_count": null,
   "id": "5dd18e4c-11dd-4376-b9a4-cf6f7310aa00",
   "metadata": {},
   "outputs": [],
   "source": []
  }
 ],
 "metadata": {
  "kernelspec": {
   "display_name": "Python 3 (ipykernel)",
   "language": "python",
   "name": "python3"
  },
  "language_info": {
   "codemirror_mode": {
    "name": "ipython",
    "version": 3
   },
   "file_extension": ".py",
   "mimetype": "text/x-python",
   "name": "python",
   "nbconvert_exporter": "python",
   "pygments_lexer": "ipython3",
   "version": "3.12.2"
  }
 },
 "nbformat": 4,
 "nbformat_minor": 5
}
